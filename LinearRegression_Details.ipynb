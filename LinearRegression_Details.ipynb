{
 "cells": [
  {
   "cell_type": "markdown",
   "id": "f00fe130",
   "metadata": {},
   "source": [
    "# Description:Linear regression"
   ]
  },
  {
   "cell_type": "markdown",
   "id": "095bbba9",
   "metadata": {},
   "source": [
    "\n",
    "Given y = mx+c where m is slope and c is intercept\n",
    "obj: is to find a best fit line with given x and y values. we can have multiple number of best fit lines but the one which gives minimum error(the distance between predicted values(lie on the line) and true values) is the best fit line.\n",
    "Objective is to reduce the value of cost function.\n",
    "cost function = 1/2m * sum(y^ - y)**2\n",
    "\n",
    "Given x and y vales: if you want to draw a line(y=mx+c),fix c=0 and let m=1..so y = x\n",
    "x:1,2,3\n",
    "y:1,2,3\n",
    "cost function = 1/(2*3) * ((1-1)^2 + (@-2)^2 +(3-3)^2 +(4-4)^2) = 0....for m=1\n",
    "\n",
    "if m=0.5\n",
    "cost function = 0.58\n",
    "Question: At which value of 'm', should I stop the iterations?\n",
    "    Ans: At the global minimum point where slope=0, from Convergence theorem.\n",
    "        m = m - (del(m)/der(m)) * alpha(learning rate)\n",
    "        \n",
    "To find error: \n",
    "    Use RMSE,Absolute error, MSE"
   ]
  },
  {
   "cell_type": "markdown",
   "id": "73dda40e",
   "metadata": {},
   "source": [
    "# Note: \n",
    "    linearity: the relation between X and mean of y is linear\n",
    "    homoscedacity: error term is same for any value of x(Across all independent values)\n",
    "    independence: observations are independent on each other.\n",
    "    normality: y is normally distributed for values of x\n",
    "Advantage\n",
    "    Performs well on linear/y separable points\n",
    "    easy to implement\n",
    "    can handle overfitting by using dimensional reduction techniques and regularization\n",
    "Disadvantage\n",
    "    Do not do well when there is multi-collinearity in features\n",
    "    Sometimes Lot of Feature Engineering is required\n",
    "    needs hyper-parameter tuning:lasso and ridge regression\n",
    "\n",
    "        \n",
    "    "
   ]
  },
  {
   "cell_type": "code",
   "execution_count": 1,
   "id": "860da9d9",
   "metadata": {},
   "outputs": [],
   "source": [
    "import numpy as np\n",
    "import pandas as pd"
   ]
  },
  {
   "cell_type": "code",
   "execution_count": 2,
   "id": "a93e275a",
   "metadata": {},
   "outputs": [],
   "source": [
    "file = pd.read_csv(r\"C:\\Users\\User\\Documents\\myProjectC#\\MLPrograms\\Ecommerce_Customers_new.csv\")"
   ]
  },
  {
   "cell_type": "code",
   "execution_count": 3,
   "id": "00f59db8",
   "metadata": {},
   "outputs": [
    {
     "data": {
      "text/html": [
       "<div>\n",
       "<style scoped>\n",
       "    .dataframe tbody tr th:only-of-type {\n",
       "        vertical-align: middle;\n",
       "    }\n",
       "\n",
       "    .dataframe tbody tr th {\n",
       "        vertical-align: top;\n",
       "    }\n",
       "\n",
       "    .dataframe thead th {\n",
       "        text-align: right;\n",
       "    }\n",
       "</style>\n",
       "<table border=\"1\" class=\"dataframe\">\n",
       "  <thead>\n",
       "    <tr style=\"text-align: right;\">\n",
       "      <th></th>\n",
       "      <th>Email</th>\n",
       "      <th>Address</th>\n",
       "      <th>Avatar</th>\n",
       "      <th>Avg. Session Length</th>\n",
       "      <th>Time on App</th>\n",
       "      <th>Time on Website</th>\n",
       "      <th>Length of Membership</th>\n",
       "      <th>Yearly Amount Spent</th>\n",
       "    </tr>\n",
       "  </thead>\n",
       "  <tbody>\n",
       "    <tr>\n",
       "      <th>0</th>\n",
       "      <td>mstephenson@fernandez.com</td>\n",
       "      <td>835 Frank Tunnel\\nWrightmouth, MI 82180-9605</td>\n",
       "      <td>Violet</td>\n",
       "      <td>34.497268</td>\n",
       "      <td>12.655651</td>\n",
       "      <td>39.577668</td>\n",
       "      <td>4.082621</td>\n",
       "      <td>587.951054</td>\n",
       "    </tr>\n",
       "    <tr>\n",
       "      <th>1</th>\n",
       "      <td>hduke@hotmail.com</td>\n",
       "      <td>4547 Archer Common\\nDiazchester, CA 06566-8576</td>\n",
       "      <td>DarkGreen</td>\n",
       "      <td>31.926272</td>\n",
       "      <td>11.109461</td>\n",
       "      <td>37.268959</td>\n",
       "      <td>2.664034</td>\n",
       "      <td>392.204933</td>\n",
       "    </tr>\n",
       "    <tr>\n",
       "      <th>2</th>\n",
       "      <td>pallen@yahoo.com</td>\n",
       "      <td>24645 Valerie Unions Suite 582\\nCobbborough, D...</td>\n",
       "      <td>Bisque</td>\n",
       "      <td>33.000915</td>\n",
       "      <td>11.330278</td>\n",
       "      <td>37.110597</td>\n",
       "      <td>4.104543</td>\n",
       "      <td>487.547505</td>\n",
       "    </tr>\n",
       "    <tr>\n",
       "      <th>3</th>\n",
       "      <td>riverarebecca@gmail.com</td>\n",
       "      <td>1414 David Throughway\\nPort Jason, OH 22070-1220</td>\n",
       "      <td>SaddleBrown</td>\n",
       "      <td>34.305557</td>\n",
       "      <td>13.717514</td>\n",
       "      <td>36.721283</td>\n",
       "      <td>3.120179</td>\n",
       "      <td>581.852344</td>\n",
       "    </tr>\n",
       "    <tr>\n",
       "      <th>4</th>\n",
       "      <td>mstephens@davidson-herman.com</td>\n",
       "      <td>14023 Rodriguez Passage\\nPort Jacobville, PR 3...</td>\n",
       "      <td>MediumAquaMarine</td>\n",
       "      <td>33.330673</td>\n",
       "      <td>12.795189</td>\n",
       "      <td>37.536653</td>\n",
       "      <td>4.446308</td>\n",
       "      <td>599.406092</td>\n",
       "    </tr>\n",
       "    <tr>\n",
       "      <th>5</th>\n",
       "      <td>alvareznancy@lucas.biz</td>\n",
       "      <td>645 Martha Park Apt. 611\\nJeffreychester, MN 6...</td>\n",
       "      <td>FloralWhite</td>\n",
       "      <td>33.871038</td>\n",
       "      <td>12.026925</td>\n",
       "      <td>34.476878</td>\n",
       "      <td>5.493507</td>\n",
       "      <td>637.102448</td>\n",
       "    </tr>\n",
       "    <tr>\n",
       "      <th>6</th>\n",
       "      <td>katherine20@yahoo.com</td>\n",
       "      <td>68388 Reyes Lights Suite 692\\nJosephbury, WV 9...</td>\n",
       "      <td>DarkSlateBlue</td>\n",
       "      <td>32.021595</td>\n",
       "      <td>11.366348</td>\n",
       "      <td>36.683776</td>\n",
       "      <td>4.685017</td>\n",
       "      <td>521.572175</td>\n",
       "    </tr>\n",
       "    <tr>\n",
       "      <th>7</th>\n",
       "      <td>awatkins@yahoo.com</td>\n",
       "      <td>Unit 6538 Box 8980\\nDPO AP 09026-4941</td>\n",
       "      <td>Aqua</td>\n",
       "      <td>32.739143</td>\n",
       "      <td>12.351959</td>\n",
       "      <td>37.373359</td>\n",
       "      <td>4.434273</td>\n",
       "      <td>549.904146</td>\n",
       "    </tr>\n",
       "    <tr>\n",
       "      <th>8</th>\n",
       "      <td>vchurch@walter-martinez.com</td>\n",
       "      <td>860 Lee Key\\nWest Debra, SD 97450-0495</td>\n",
       "      <td>Salmon</td>\n",
       "      <td>33.987773</td>\n",
       "      <td>13.386235</td>\n",
       "      <td>37.534497</td>\n",
       "      <td>3.273434</td>\n",
       "      <td>570.200409</td>\n",
       "    </tr>\n",
       "    <tr>\n",
       "      <th>9</th>\n",
       "      <td>bonnie69@lin.biz</td>\n",
       "      <td>PSC 2734, Box 5255\\nAPO AA 98456-7482</td>\n",
       "      <td>Brown</td>\n",
       "      <td>31.936549</td>\n",
       "      <td>11.814128</td>\n",
       "      <td>37.145168</td>\n",
       "      <td>3.202806</td>\n",
       "      <td>427.199385</td>\n",
       "    </tr>\n",
       "  </tbody>\n",
       "</table>\n",
       "</div>"
      ],
      "text/plain": [
       "                           Email  \\\n",
       "0      mstephenson@fernandez.com   \n",
       "1              hduke@hotmail.com   \n",
       "2               pallen@yahoo.com   \n",
       "3        riverarebecca@gmail.com   \n",
       "4  mstephens@davidson-herman.com   \n",
       "5         alvareznancy@lucas.biz   \n",
       "6          katherine20@yahoo.com   \n",
       "7             awatkins@yahoo.com   \n",
       "8    vchurch@walter-martinez.com   \n",
       "9               bonnie69@lin.biz   \n",
       "\n",
       "                                             Address            Avatar  \\\n",
       "0       835 Frank Tunnel\\nWrightmouth, MI 82180-9605            Violet   \n",
       "1     4547 Archer Common\\nDiazchester, CA 06566-8576         DarkGreen   \n",
       "2  24645 Valerie Unions Suite 582\\nCobbborough, D...            Bisque   \n",
       "3   1414 David Throughway\\nPort Jason, OH 22070-1220       SaddleBrown   \n",
       "4  14023 Rodriguez Passage\\nPort Jacobville, PR 3...  MediumAquaMarine   \n",
       "5  645 Martha Park Apt. 611\\nJeffreychester, MN 6...       FloralWhite   \n",
       "6  68388 Reyes Lights Suite 692\\nJosephbury, WV 9...     DarkSlateBlue   \n",
       "7              Unit 6538 Box 8980\\nDPO AP 09026-4941              Aqua   \n",
       "8             860 Lee Key\\nWest Debra, SD 97450-0495            Salmon   \n",
       "9              PSC 2734, Box 5255\\nAPO AA 98456-7482             Brown   \n",
       "\n",
       "   Avg. Session Length  Time on App  Time on Website  Length of Membership  \\\n",
       "0            34.497268    12.655651        39.577668              4.082621   \n",
       "1            31.926272    11.109461        37.268959              2.664034   \n",
       "2            33.000915    11.330278        37.110597              4.104543   \n",
       "3            34.305557    13.717514        36.721283              3.120179   \n",
       "4            33.330673    12.795189        37.536653              4.446308   \n",
       "5            33.871038    12.026925        34.476878              5.493507   \n",
       "6            32.021595    11.366348        36.683776              4.685017   \n",
       "7            32.739143    12.351959        37.373359              4.434273   \n",
       "8            33.987773    13.386235        37.534497              3.273434   \n",
       "9            31.936549    11.814128        37.145168              3.202806   \n",
       "\n",
       "   Yearly Amount Spent  \n",
       "0           587.951054  \n",
       "1           392.204933  \n",
       "2           487.547505  \n",
       "3           581.852344  \n",
       "4           599.406092  \n",
       "5           637.102448  \n",
       "6           521.572175  \n",
       "7           549.904146  \n",
       "8           570.200409  \n",
       "9           427.199385  "
      ]
     },
     "execution_count": 3,
     "metadata": {},
     "output_type": "execute_result"
    }
   ],
   "source": [
    "file.head(10)"
   ]
  },
  {
   "cell_type": "code",
   "execution_count": 4,
   "id": "f5a07288",
   "metadata": {},
   "outputs": [
    {
     "data": {
      "text/plain": [
       "Index(['Email', 'Address', 'Avatar', 'Avg. Session Length', 'Time on App',\n",
       "       'Time on Website', 'Length of Membership', 'Yearly Amount Spent'],\n",
       "      dtype='object')"
      ]
     },
     "execution_count": 4,
     "metadata": {},
     "output_type": "execute_result"
    }
   ],
   "source": [
    "file.columns"
   ]
  },
  {
   "cell_type": "code",
   "execution_count": 47,
   "id": "363dc73e",
   "metadata": {},
   "outputs": [],
   "source": [
    "from sklearn.linear_model import Lasso\n",
    "from sklearn.model_selection import RepeatedKFold\n",
    "from sklearn.model_selection import cross_val_score\n",
    "from numpy import absolute\n",
    "from numpy import mean,std\n",
    "from sklearn.model_selection import GridSearchCV"
   ]
  },
  {
   "cell_type": "code",
   "execution_count": 7,
   "id": "e31db379",
   "metadata": {},
   "outputs": [],
   "source": [
    "model = Lasso(alpha=1)"
   ]
  },
  {
   "cell_type": "code",
   "execution_count": 10,
   "id": "98b91c40",
   "metadata": {},
   "outputs": [],
   "source": [
    "cv = RepeatedKFold(n_splits=10, n_repeats=3, random_state=1)"
   ]
  },
  {
   "cell_type": "code",
   "execution_count": null,
   "id": "107ea7ee",
   "metadata": {},
   "outputs": [],
   "source": []
  },
  {
   "cell_type": "code",
   "execution_count": 12,
   "id": "3e62a17e",
   "metadata": {},
   "outputs": [],
   "source": [
    "Y=file['Yearly Amount Spent']\n",
    "X = file.drop('Yearly Amount Spent',axis=1)"
   ]
  },
  {
   "cell_type": "code",
   "execution_count": 13,
   "id": "eb6d6794",
   "metadata": {},
   "outputs": [
    {
     "data": {
      "text/plain": [
       "(500, 7)"
      ]
     },
     "execution_count": 13,
     "metadata": {},
     "output_type": "execute_result"
    }
   ],
   "source": [
    "X.shape"
   ]
  },
  {
   "cell_type": "code",
   "execution_count": 14,
   "id": "445a0b09",
   "metadata": {},
   "outputs": [
    {
     "data": {
      "text/plain": [
       "(500,)"
      ]
     },
     "execution_count": 14,
     "metadata": {},
     "output_type": "execute_result"
    }
   ],
   "source": [
    "Y.shape"
   ]
  },
  {
   "cell_type": "code",
   "execution_count": 15,
   "id": "201691de",
   "metadata": {},
   "outputs": [
    {
     "data": {
      "text/plain": [
       "Index(['Email', 'Address', 'Avatar', 'Avg. Session Length', 'Time on App',\n",
       "       'Time on Website', 'Length of Membership'],\n",
       "      dtype='object')"
      ]
     },
     "execution_count": 15,
     "metadata": {},
     "output_type": "execute_result"
    }
   ],
   "source": [
    "X.columns"
   ]
  },
  {
   "cell_type": "code",
   "execution_count": 22,
   "id": "f16da182",
   "metadata": {},
   "outputs": [],
   "source": [
    "X = X.apply(pd.to_numeric, errors='coerce')\n",
    "Y = Y.apply(pd.to_numeric, errors='coerce')"
   ]
  },
  {
   "cell_type": "code",
   "execution_count": 23,
   "id": "5ffac170",
   "metadata": {},
   "outputs": [],
   "source": [
    "X.fillna(0, inplace=True)\n",
    "Y.fillna(0, inplace=True)"
   ]
  },
  {
   "cell_type": "code",
   "execution_count": 24,
   "id": "b26ad27a",
   "metadata": {},
   "outputs": [],
   "source": [
    "#Evaluate the Model\n",
    "scores = cross_val_score(model,X,Y,scoring='neg_mean_absolute_error',cv=cv,n_jobs=-1)"
   ]
  },
  {
   "cell_type": "code",
   "execution_count": 25,
   "id": "251324e9",
   "metadata": {},
   "outputs": [],
   "source": [
    "scores = absolute(scores)"
   ]
  },
  {
   "cell_type": "code",
   "execution_count": 26,
   "id": "145d5b4f",
   "metadata": {},
   "outputs": [
    {
     "data": {
      "text/plain": [
       "array([7.3713098 , 7.04042033, 7.68784561, 8.14983176, 8.09496478,\n",
       "       8.44218649, 8.57503339, 9.87165151, 8.36421474, 7.36665262,\n",
       "       8.33927389, 9.04820412, 8.4304369 , 8.37888576, 7.81570089,\n",
       "       8.00522738, 7.00755272, 8.26608467, 8.54956931, 7.03982418,\n",
       "       7.64136172, 7.69582792, 8.1128229 , 9.0567388 , 7.18968235,\n",
       "       7.86191606, 7.96434893, 7.95355607, 9.26819956, 7.9541431 ])"
      ]
     },
     "execution_count": 26,
     "metadata": {},
     "output_type": "execute_result"
    }
   ],
   "source": [
    "scores"
   ]
  },
  {
   "cell_type": "code",
   "execution_count": 32,
   "id": "50650e7a",
   "metadata": {},
   "outputs": [
    {
     "name": "stdout",
     "output_type": "stream",
     "text": [
      "mean absolute error:8.084782275480721, std os scores:0.6655537712265317)\n"
     ]
    }
   ],
   "source": [
    "print('mean absolute error:{}, std os scores:{})'.format(mean(scores), std(scores)))"
   ]
  },
  {
   "cell_type": "code",
   "execution_count": null,
   "id": "c64aee78",
   "metadata": {},
   "outputs": [],
   "source": [
    "# we can apply Lasso regression as our final model and make predictions on new data."
   ]
  },
  {
   "cell_type": "markdown",
   "id": "c7a3027f",
   "metadata": {},
   "source": [
    "# fit the model"
   ]
  },
  {
   "cell_type": "code",
   "execution_count": 35,
   "id": "05c47614",
   "metadata": {},
   "outputs": [],
   "source": [
    "from sklearn.model_selection import train_test_split\n"
   ]
  },
  {
   "cell_type": "code",
   "execution_count": 36,
   "id": "e6d96c56",
   "metadata": {},
   "outputs": [],
   "source": [
    "x_train, x_test, y_train,y_test = train_test_split(X,Y, test_size=0.4, random_state=10)"
   ]
  },
  {
   "cell_type": "code",
   "execution_count": 37,
   "id": "0dde62f6",
   "metadata": {},
   "outputs": [],
   "source": [
    "model = Lasso(alpha=1)"
   ]
  },
  {
   "cell_type": "code",
   "execution_count": 38,
   "id": "1d8343ce",
   "metadata": {},
   "outputs": [
    {
     "data": {
      "text/plain": [
       "Lasso(alpha=1)"
      ]
     },
     "execution_count": 38,
     "metadata": {},
     "output_type": "execute_result"
    }
   ],
   "source": [
    "model.fit(x_train,y_train)"
   ]
  },
  {
   "cell_type": "code",
   "execution_count": 39,
   "id": "8a6ca23c",
   "metadata": {},
   "outputs": [],
   "source": [
    "y_hat = model.predict(x_test)"
   ]
  },
  {
   "cell_type": "markdown",
   "id": "5e861aef",
   "metadata": {},
   "source": [
    "# tuning alpha value:"
   ]
  },
  {
   "cell_type": "code",
   "execution_count": 41,
   "id": "5b71253b",
   "metadata": {},
   "outputs": [],
   "source": [
    "model_mod = Lasso()"
   ]
  },
  {
   "cell_type": "code",
   "execution_count": 42,
   "id": "72af606b",
   "metadata": {},
   "outputs": [],
   "source": [
    "cv = RepeatedKFold(n_splits=10,n_repeats=3,random_state=1)"
   ]
  },
  {
   "cell_type": "code",
   "execution_count": 45,
   "id": "eda44e14",
   "metadata": {},
   "outputs": [],
   "source": [
    "grid = dict()\n",
    "grid['alpha'] = np.arange(0,1,0.01)"
   ]
  },
  {
   "cell_type": "code",
   "execution_count": 48,
   "id": "e71a7d74",
   "metadata": {},
   "outputs": [],
   "source": [
    "search = GridSearchCV(model_mod, grid, scoring='neg_mean_absolute_error', cv=cv, n_jobs=-1)"
   ]
  },
  {
   "cell_type": "code",
   "execution_count": 50,
   "id": "febfa447",
   "metadata": {},
   "outputs": [
    {
     "name": "stderr",
     "output_type": "stream",
     "text": [
      "C:\\Users\\User\\miniconda3\\lib\\site-packages\\sklearn\\model_selection\\_search.py:926: UserWarning: With alpha=0, this algorithm does not converge well. You are advised to use the LinearRegression estimator\n",
      "  self.best_estimator_.fit(X, y, **fit_params)\n",
      "C:\\Users\\User\\miniconda3\\lib\\site-packages\\sklearn\\linear_model\\_coordinate_descent.py:647: UserWarning: Coordinate descent with no regularization may lead to unexpected results and is discouraged.\n",
      "  model = cd_fast.enet_coordinate_descent(\n",
      "C:\\Users\\User\\miniconda3\\lib\\site-packages\\sklearn\\linear_model\\_coordinate_descent.py:647: ConvergenceWarning: Objective did not converge. You might want to increase the number of iterations, check the scale of the features or consider increasing regularisation. Duality gap: 1.484e+04, tolerance: 1.571e+02 Linear regression models with null weight for the l1 regularization term are more efficiently fitted using one of the solvers implemented in sklearn.linear_model.Ridge/RidgeCV instead.\n",
      "  model = cd_fast.enet_coordinate_descent(\n"
     ]
    }
   ],
   "source": [
    "results = search.fit(x_train, y_train)"
   ]
  },
  {
   "cell_type": "code",
   "execution_count": 52,
   "id": "f17de116",
   "metadata": {},
   "outputs": [
    {
     "name": "stdout",
     "output_type": "stream",
     "text": [
      "MAE: -8.022\n",
      "Config: {'alpha': 0.0}\n"
     ]
    }
   ],
   "source": [
    "# summarize\n",
    "print('MAE: %.3f' % results.best_score_)\n",
    "print('Config: %s' % results.best_params_)"
   ]
  },
  {
   "cell_type": "code",
   "execution_count": null,
   "id": "4679ea73",
   "metadata": {},
   "outputs": [],
   "source": [
    "#Ignore the sign; the library makes the MAE negative for optimization purposes\n",
    "#In this case, we can see that we achieved slightly better results than the default 8.084 vs. 8.022. "
   ]
  },
  {
   "cell_type": "code",
   "execution_count": null,
   "id": "c5fabd74",
   "metadata": {},
   "outputs": [],
   "source": []
  },
  {
   "cell_type": "code",
   "execution_count": null,
   "id": "a0116750",
   "metadata": {},
   "outputs": [],
   "source": [
    "#ridge regression"
   ]
  },
  {
   "cell_type": "code",
   "execution_count": 53,
   "id": "f03a226c",
   "metadata": {},
   "outputs": [],
   "source": [
    "from sklearn.linear_model import Ridge"
   ]
  },
  {
   "cell_type": "code",
   "execution_count": 54,
   "id": "01d0ce31",
   "metadata": {},
   "outputs": [],
   "source": [
    "clf = Ridge(alpha=1.0)"
   ]
  },
  {
   "cell_type": "code",
   "execution_count": 55,
   "id": "8bf0ff61",
   "metadata": {},
   "outputs": [
    {
     "data": {
      "text/plain": [
       "Ridge()"
      ]
     },
     "execution_count": 55,
     "metadata": {},
     "output_type": "execute_result"
    }
   ],
   "source": [
    "clf.fit(x_train,y_train)"
   ]
  },
  {
   "cell_type": "code",
   "execution_count": 56,
   "id": "0af27191",
   "metadata": {},
   "outputs": [
    {
     "data": {
      "text/plain": [
       "array([684.07373104, 497.46341258, 598.80311088, 609.28464876,\n",
       "       584.32059103, 478.00206233, 543.36221515, 574.79755183,\n",
       "       750.4632944 , 468.66095396, 506.15682795, 558.24284351,\n",
       "       552.87991852, 493.7137002 , 530.36970708, 434.25946595,\n",
       "       542.82098598, 561.89376434, 421.71679927, 408.63226031,\n",
       "       543.70272765, 450.8404929 , 499.68170122, 507.15340774,\n",
       "       692.23548587, 435.08636404, 527.03499609, 466.13997849,\n",
       "       493.53285328, 477.8881578 , 562.74038497, 487.07762372,\n",
       "       481.23821873, 507.91880614, 514.90710434, 538.47307291,\n",
       "       422.09703179, 471.80817145, 510.2625895 , 507.18818696,\n",
       "       503.03321623, 551.67049208, 640.83179943, 434.17435835,\n",
       "       702.80594962, 606.18061388, 656.88745024, 765.02213093,\n",
       "       576.5395055 , 445.45898012, 473.81935696, 504.01090823,\n",
       "       600.91834871, 490.81871763, 551.65934193, 489.28465009,\n",
       "       430.16002487, 558.11560337, 431.77323944, 556.27073215,\n",
       "       401.97919003, 421.44782289, 546.07363088, 564.14888665,\n",
       "       472.65024612, 372.10865801, 479.96746871, 588.43558868,\n",
       "       411.75593112, 519.06936856, 315.52310532, 531.80019793,\n",
       "       606.19342036, 458.52669149, 516.42922341, 421.95728671,\n",
       "       497.83279459, 505.91624204, 531.61673039, 601.02436945,\n",
       "       574.47248523, 519.21715988, 564.40058817, 451.74030005,\n",
       "       593.20778545, 380.49053265, 511.18134365, 499.91875295,\n",
       "       508.56453052, 472.25884921, 670.54820394, 571.3706158 ,\n",
       "       364.96538051, 599.06902548, 515.87348437, 724.56050544,\n",
       "       597.58933141, 511.88241408, 499.21487479, 598.81403131,\n",
       "       683.98974129, 390.25679788, 548.53499719, 325.46539125,\n",
       "       451.5005197 , 431.35140965, 518.68590108, 530.97259889,\n",
       "       580.92658209, 408.50830008, 676.30932392, 482.82852635,\n",
       "       537.5738179 , 542.63367642, 347.58619408, 407.54201073,\n",
       "       607.79871891, 458.10163776, 433.56187448, 283.27243056,\n",
       "       429.2557701 , 352.57595611, 487.86200003, 396.1064048 ,\n",
       "       563.07561587, 572.96556529, 431.64888815, 486.38222758,\n",
       "       578.85490786, 437.52409237, 511.185782  , 536.31496393,\n",
       "       565.68911249, 380.53444318, 495.90836009, 572.91883121,\n",
       "       398.65447746, 460.51606019, 439.83822037, 520.04924695,\n",
       "       395.22245927, 524.42786919, 486.64561799, 551.91915253,\n",
       "       542.40325628, 398.07520917, 623.02278209, 533.81097918,\n",
       "       500.34314301, 581.20157455, 526.49367181, 423.36992401,\n",
       "       463.79488947, 399.27314331, 430.50219336, 523.34254156,\n",
       "       530.86695892, 553.50070308, 449.67401113, 306.0623696 ,\n",
       "       478.34453452, 507.45909516, 493.50148076, 567.06941198,\n",
       "       425.9737678 , 425.31385382, 680.79369164, 373.52802636,\n",
       "       485.15830236, 588.05123201, 534.33477848, 548.93322727,\n",
       "       501.56016709, 608.44039397, 461.59877452, 479.19853227,\n",
       "       511.42503943, 642.98288686, 255.06093116, 569.82871131,\n",
       "       284.02921086, 456.440351  , 337.46764551, 538.60928788,\n",
       "       570.06690664, 391.78299149, 567.06278402, 446.82032574,\n",
       "       492.62980164, 475.27207364, 423.65860327, 481.23460102,\n",
       "       287.39412023, 408.34357212, 459.89420547, 468.85517918,\n",
       "       417.3296954 , 557.63030374, 556.81953342, 426.54821595])"
      ]
     },
     "execution_count": 56,
     "metadata": {},
     "output_type": "execute_result"
    }
   ],
   "source": [
    "clf.predict(x_test)"
   ]
  },
  {
   "cell_type": "code",
   "execution_count": null,
   "id": "3b43d765",
   "metadata": {},
   "outputs": [],
   "source": [
    "COMPLETE IT.."
   ]
  },
  {
   "cell_type": "code",
   "execution_count": null,
   "id": "ef6b7918",
   "metadata": {},
   "outputs": [],
   "source": []
  },
  {
   "cell_type": "code",
   "execution_count": null,
   "id": "a3140646",
   "metadata": {},
   "outputs": [],
   "source": []
  },
  {
   "cell_type": "code",
   "execution_count": null,
   "id": "710a4c81",
   "metadata": {},
   "outputs": [],
   "source": []
  },
  {
   "cell_type": "code",
   "execution_count": 10,
   "id": "bacadabe",
   "metadata": {},
   "outputs": [
    {
     "data": {
      "text/html": [
       "<div>\n",
       "<style scoped>\n",
       "    .dataframe tbody tr th:only-of-type {\n",
       "        vertical-align: middle;\n",
       "    }\n",
       "\n",
       "    .dataframe tbody tr th {\n",
       "        vertical-align: top;\n",
       "    }\n",
       "\n",
       "    .dataframe thead th {\n",
       "        text-align: right;\n",
       "    }\n",
       "</style>\n",
       "<table border=\"1\" class=\"dataframe\">\n",
       "  <thead>\n",
       "    <tr style=\"text-align: right;\">\n",
       "      <th></th>\n",
       "      <th>Avg. Session Length</th>\n",
       "      <th>Time on App</th>\n",
       "      <th>Time on Website</th>\n",
       "      <th>Length of Membership</th>\n",
       "      <th>Yearly Amount Spent</th>\n",
       "    </tr>\n",
       "  </thead>\n",
       "  <tbody>\n",
       "    <tr>\n",
       "      <th>Avg. Session Length</th>\n",
       "      <td>1.000000</td>\n",
       "      <td>-0.027826</td>\n",
       "      <td>-0.034987</td>\n",
       "      <td>0.060247</td>\n",
       "      <td>0.355088</td>\n",
       "    </tr>\n",
       "    <tr>\n",
       "      <th>Time on App</th>\n",
       "      <td>-0.027826</td>\n",
       "      <td>1.000000</td>\n",
       "      <td>0.082388</td>\n",
       "      <td>0.029143</td>\n",
       "      <td>0.499328</td>\n",
       "    </tr>\n",
       "    <tr>\n",
       "      <th>Time on Website</th>\n",
       "      <td>-0.034987</td>\n",
       "      <td>0.082388</td>\n",
       "      <td>1.000000</td>\n",
       "      <td>-0.047582</td>\n",
       "      <td>-0.002641</td>\n",
       "    </tr>\n",
       "    <tr>\n",
       "      <th>Length of Membership</th>\n",
       "      <td>0.060247</td>\n",
       "      <td>0.029143</td>\n",
       "      <td>-0.047582</td>\n",
       "      <td>1.000000</td>\n",
       "      <td>0.809084</td>\n",
       "    </tr>\n",
       "    <tr>\n",
       "      <th>Yearly Amount Spent</th>\n",
       "      <td>0.355088</td>\n",
       "      <td>0.499328</td>\n",
       "      <td>-0.002641</td>\n",
       "      <td>0.809084</td>\n",
       "      <td>1.000000</td>\n",
       "    </tr>\n",
       "  </tbody>\n",
       "</table>\n",
       "</div>"
      ],
      "text/plain": [
       "                      Avg. Session Length  Time on App  Time on Website  \\\n",
       "Avg. Session Length              1.000000    -0.027826        -0.034987   \n",
       "Time on App                     -0.027826     1.000000         0.082388   \n",
       "Time on Website                 -0.034987     0.082388         1.000000   \n",
       "Length of Membership             0.060247     0.029143        -0.047582   \n",
       "Yearly Amount Spent              0.355088     0.499328        -0.002641   \n",
       "\n",
       "                      Length of Membership  Yearly Amount Spent  \n",
       "Avg. Session Length               0.060247             0.355088  \n",
       "Time on App                       0.029143             0.499328  \n",
       "Time on Website                  -0.047582            -0.002641  \n",
       "Length of Membership              1.000000             0.809084  \n",
       "Yearly Amount Spent               0.809084             1.000000  "
      ]
     },
     "execution_count": 10,
     "metadata": {},
     "output_type": "execute_result"
    }
   ],
   "source": [
    "file.corr()"
   ]
  },
  {
   "cell_type": "code",
   "execution_count": 11,
   "id": "0b43f613",
   "metadata": {},
   "outputs": [
    {
     "data": {
      "text/plain": [
       "<AxesSubplot:>"
      ]
     },
     "execution_count": 11,
     "metadata": {},
     "output_type": "execute_result"
    },
    {
     "data": {
      "image/png": "[encoded data removed]",
      "text/plain": [
       "<Figure size 432x288 with 2 Axes>"
      ]
     },
     "metadata": {
      "needs_background": "light"
     },
     "output_type": "display_data"
    }
   ],
   "source": [
    "import seaborn as sns\n",
    "sns.heatmap(file.corr(), annot=True)"
   ]
  },
  {
   "cell_type": "code",
   "execution_count": 12,
   "id": "15416fa2",
   "metadata": {},
   "outputs": [
    {
     "data": {
      "text/plain": [
       "Email                   False\n",
       "Address                 False\n",
       "Avatar                  False\n",
       "Avg. Session Length     False\n",
       "Time on App             False\n",
       "Time on Website         False\n",
       "Length of Membership    False\n",
       "Yearly Amount Spent     False\n",
       "dtype: bool"
      ]
     },
     "execution_count": 12,
     "metadata": {},
     "output_type": "execute_result"
    }
   ],
   "source": [
    "file.isnull().any()"
   ]
  },
  {
   "cell_type": "code",
   "execution_count": 13,
   "id": "d6764dde",
   "metadata": {},
   "outputs": [],
   "source": [
    "X = X.apply(pd.to_numeric, errors='coerce')\n",
    "Y = Y.apply(pd.to_numeric, errors='coerce')"
   ]
  },
  {
   "cell_type": "code",
   "execution_count": 14,
   "id": "a02f72ed",
   "metadata": {},
   "outputs": [],
   "source": [
    "X.fillna(0, inplace=True)\n",
    "Y.fillna(0, inplace=True)"
   ]
  },
  {
   "cell_type": "code",
   "execution_count": 15,
   "id": "65a7c4a1",
   "metadata": {},
   "outputs": [],
   "source": [
    "from sklearn.preprocessing import StandardScaler\n",
    "sc = StandardScaler()\n",
    "X = sc.fit_transform(X)"
   ]
  },
  {
   "cell_type": "code",
   "execution_count": 16,
   "id": "53664c8e",
   "metadata": {},
   "outputs": [],
   "source": [
    "from sklearn.model_selection import train_test_split\n",
    "from sklearn.linear_model import LinearRegression\n"
   ]
  },
  {
   "cell_type": "code",
   "execution_count": 17,
   "id": "48443618",
   "metadata": {},
   "outputs": [],
   "source": [
    "\n",
    "x_train, x_test, y_train,y_test = train_test_split(X,Y, test_size=0.4, random_state=10)"
   ]
  },
  {
   "cell_type": "code",
   "execution_count": 18,
   "id": "514c6306",
   "metadata": {},
   "outputs": [],
   "source": [
    "lm = LinearRegression()"
   ]
  },
  {
   "cell_type": "code",
   "execution_count": 19,
   "id": "f57e901f",
   "metadata": {},
   "outputs": [
    {
     "data": {
      "text/plain": [
       "LinearRegression()"
      ]
     },
     "execution_count": 19,
     "metadata": {},
     "output_type": "execute_result"
    }
   ],
   "source": [
    "lm.fit(x_train,y_train)"
   ]
  },
  {
   "cell_type": "code",
   "execution_count": 20,
   "id": "89cc35d7",
   "metadata": {},
   "outputs": [],
   "source": [
    "prediction = lm.predict(x_test)"
   ]
  },
  {
   "cell_type": "code",
   "execution_count": 21,
   "id": "317dfe89",
   "metadata": {},
   "outputs": [
    {
     "data": {
      "text/plain": [
       "Text(0, 0.5, 'prediction')"
      ]
     },
     "execution_count": 21,
     "metadata": {},
     "output_type": "execute_result"
    },
    {
     "data": {
      "image/png": "[encoded data removed]",
      "text/plain": [
       "<Figure size 432x288 with 1 Axes>"
      ]
     },
     "metadata": {
      "needs_background": "light"
     },
     "output_type": "display_data"
    }
   ],
   "source": [
    "import matplotlib.pylab as plt\n",
    "plt.scatter(y_test,prediction)\n",
    "plt.xlabel('y_test(true valeu)')\n",
    "plt.ylabel('prediction')"
   ]
  },
  {
   "cell_type": "markdown",
   "id": "3883be24",
   "metadata": {},
   "source": [
    "# Evaluating the performance of the model\n",
    "\n",
    "We will be using Root mean squared error(RMSE) and Coefficient of Determination(R² score) to evaluate our model.\n",
    "#Residuals\n",
    "The line for which the the error between the predicted values and the observed values is minimum is called the best\n",
    "fit line or the regression line. These errors are also called as residuals.\n",
    "#RMSE\n",
    "RMSE is the square root of the average of the sum of the squares of residuals.\n",
    "\n",
    "R² score or the coefficient of determination explains how much the total variance of the dependent variable can be reduced by using the least square regression.\n",
    "\n"
   ]
  },
  {
   "cell_type": "code",
   "execution_count": 70,
   "id": "54c15864",
   "metadata": {},
   "outputs": [
    {
     "name": "stdout",
     "output_type": "stream",
     "text": [
      "0.9874089129523683\n"
     ]
    }
   ],
   "source": [
    "#sum of square of Residuals\n",
    "ssr = np.sum((prediction-y_test)**2)\n",
    "#  total sum of squares\n",
    "sst = np.sum((y_test-np.mean(y_test))**2)\n",
    "#R2 score\n",
    "r2_score = 1-(ssr/sst)\n",
    "print(r2_score)"
   ]
  },
  {
   "cell_type": "code",
   "execution_count": null,
   "id": "d45fe50d",
   "metadata": {},
   "outputs": [],
   "source": [
    "Now, we have to compare the y_prediction values with the original values because we have to calculate the accuracy of our model,\n",
    "which was implemented by a concept called r2_score."
   ]
  },
  {
   "cell_type": "code",
   "execution_count": 66,
   "id": "0a20e807",
   "metadata": {},
   "outputs": [
    {
     "name": "stdout",
     "output_type": "stream",
     "text": [
      "R squared: 0.9874089129523683\n"
     ]
    }
   ],
   "source": [
    "from sklearn.metrics import r2_score\n",
    "print(\"R squared: {}\".format(r2_score(y_true=y_test,y_pred=prediction)))"
   ]
  },
  {
   "cell_type": "code",
   "execution_count": null,
   "id": "1116b34f",
   "metadata": {},
   "outputs": [],
   "source": []
  },
  {
   "cell_type": "code",
   "execution_count": null,
   "id": "c0ac61cc",
   "metadata": {},
   "outputs": [],
   "source": [
    "Homoscedasticity: Homoscedasticity describes a situation in which the error term (that is, the “noise” or random disturbance in the relationship between the independent variables and the dependent variable) is\n",
    "    the same across all values of the independent variables"
   ]
  },
  {
   "cell_type": "markdown",
   "id": "8d3fdb7c",
   "metadata": {},
   "source": [
    "# evaluate matrix\n",
    "from sklearn import metrics\n"
   ]
  },
  {
   "cell_type": "code",
   "execution_count": 35,
   "id": "f4cccfbc",
   "metadata": {},
   "outputs": [
    {
     "name": "stdout",
     "output_type": "stream",
     "text": [
      "MAE 7.918349539335306\n"
     ]
    }
   ],
   "source": [
    "print('MAE', metrics.mean_absolute_error(y_test, prediction))"
   ]
  },
  {
   "cell_type": "markdown",
   "id": "682801e6",
   "metadata": {},
   "source": [
    "# Improve the performance of linear model"
   ]
  },
  {
   "cell_type": "markdown",
   "id": "84341d1e",
   "metadata": {},
   "source": [
    "# Goldfeld Quandt Test\n",
    "Linear regression assumes that the variance between data points does not increase or\n",
    "decrease as a function of the dependent variable\n",
    "\n",
    "Homoscedasticity means that the residuals have equal or almost equal variance across the regression line. By plotting the error terms with predicted terms we can check that there should not be any pattern in the error terms.\n",
    "\n",
    "The Goldfeld Quandt Test is a test used in regression analysis to test for homoscedasticity. It compares variances of two subgroups; one set of high values and one set of low values. If the variances differ, the test rejects the null hypothesis \n",
    "that the variances of the errors are not constant. \n",
    "\n",
    "Goldfeld and Quandt dscribed 2 types of tests: parametric and non parametric.\n",
    "The term “Quandt Goldfeld test” always means parametric test and the assumprtion for the test is data are normally distributed.\n"
   ]
  },
  {
   "cell_type": "markdown",
   "id": "ab5f7414",
   "metadata": {},
   "source": [
    "\n",
    "Detecting heteroscedasticity!\n",
    "Graphical Method: Firstly do the regression analysis and then plot the error terms against the predicted values( Yi^).\n",
    "If there is a definite pattern (like linear or quadratic or funnel shaped) obtained from the scatter plot then heteroscedasticity is present.\n"
   ]
  },
  {
   "cell_type": "markdown",
   "id": "500c1c1a",
   "metadata": {},
   "source": [
    "The coefficient of determination is defined as\n",
    ", where is the residual sum of squares ((y_true - y_pred)** 2).sum() and is the total sum of squares ((y_true - y_true.mean()) ** 2).sum(). "
   ]
  },
  {
   "cell_type": "code",
   "execution_count": 37,
   "id": "7bb41ad9",
   "metadata": {},
   "outputs": [],
   "source": [
    "residuals = y_test.values-prediction\n",
    "#print(residuals)"
   ]
  },
  {
   "cell_type": "code",
   "execution_count": 96,
   "id": "27b43952",
   "metadata": {},
   "outputs": [
    {
     "name": "stderr",
     "output_type": "stream",
     "text": [
      "C:\\Users\\User\\miniconda3\\lib\\site-packages\\seaborn\\_decorators.py:36: FutureWarning: Pass the following variables as keyword args: x, y. From version 0.12, the only valid positional argument will be `data`, and passing other arguments without an explicit keyword will result in an error or misinterpretation.\n",
      "  warnings.warn(\n",
      "C:\\Users\\User\\miniconda3\\lib\\site-packages\\seaborn\\_decorators.py:36: FutureWarning: Pass the following variables as keyword args: x, y. From version 0.12, the only valid positional argument will be `data`, and passing other arguments without an explicit keyword will result in an error or misinterpretation.\n",
      "  warnings.warn(\n"
     ]
    },
    {
     "data": {
      "image/png": "[encoded data removed]",
      "text/plain": [
       "<Figure size 432x288 with 1 Axes>"
      ]
     },
     "metadata": {
      "needs_background": "light"
     },
     "output_type": "display_data"
    }
   ],
   "source": [
    "sns.scatterplot(prediction,residuals)\n",
    "plt.xlabel('predicted values')\n",
    "plt.ylabel('Residuals')\n",
    "plt.ylim(-10,10)\n",
    "plt.xlim(0,800)\n",
    "p = sns.lineplot([0,800],[0,0],color='blue')\n"
   ]
  },
  {
   "cell_type": "code",
   "execution_count": null,
   "id": "df007450",
   "metadata": {},
   "outputs": [],
   "source": []
  },
  {
   "cell_type": "code",
   "execution_count": 102,
   "id": "06552267",
   "metadata": {},
   "outputs": [],
   "source": [
    "from statsmodels.stats.diagnostic import het_goldfeldquandt\n",
    "from statsmodels.stats.diagnostic import het_breuschpagan"
   ]
  },
  {
   "cell_type": "code",
   "execution_count": 107,
   "id": "cc909ede",
   "metadata": {},
   "outputs": [],
   "source": [
    "test = sms.het_goldfeldquandt(residuals, x_test)"
   ]
  },
  {
   "cell_type": "code",
   "execution_count": 109,
   "id": "13236518",
   "metadata": {},
   "outputs": [
    {
     "data": {
      "text/plain": [
       "[('F statistics', 1.5293328835210276), ('p-value', 0.01931428127727452)]"
      ]
     },
     "execution_count": 109,
     "metadata": {},
     "output_type": "execute_result"
    }
   ],
   "source": [
    "name = ['F statistics','p-value']\n",
    "lzip(name,test)"
   ]
  },
  {
   "cell_type": "markdown",
   "id": "1ce89a37",
   "metadata": {},
   "source": [
    "# Correlation\n",
    "#What is p-value and how to choose features depending on p-value\n",
    "\n",
    "Correlation refers to how close two variables are to having a linear relationship with each other. Features with high correlation values\n",
    "are more linearly dependent. So when two features have high correlation, we can drop one of the two features. p-value can be used to\n",
    "decide whether whether to keep a feature or not.\n",
    "Null hypothesis: there is no realtionship between your variables\n",
    "Alternative hypothesis: there exists relation between your variables.\n",
    "    \n",
    "i). if p-value < 0.05 then reject Null hypothesis.(implies correlation between features)\n",
    "ii). if p-value > 0.05 then Alternative hypothesis is weak and could not reject Null hypothesys\n",
    "\n",
    "No Hetroskadacity (constant variance)\n",
    "\n",
    "Goldfeld Quandt Test:\n",
    "\n",
    "    Null Hypothesis: Error terms are homoscedastic(same finite variance)\n",
    "    Alternative Hypothesis: Error terms are heteroscedastic.\n"
   ]
  },
  {
   "cell_type": "code",
   "execution_count": null,
   "id": "ee4f1233",
   "metadata": {},
   "outputs": [],
   "source": [
    "#p-value: 0.01931(p<0.05) implies accept Alternative hypothesis i.e error terms are heteroscedastic( Variances changes with dependent variable)\n",
    "which violates the theory that .....\n",
    "Linear regression assumes that the variance between data points does not increase or decrease as a function of the dependent variable."
   ]
  },
  {
   "cell_type": "code",
   "execution_count": null,
   "id": "6c35297f",
   "metadata": {},
   "outputs": [],
   "source": [
    "#In this case Standard error of the linear model is not reliable."
   ]
  },
  {
   "cell_type": "code",
   "execution_count": null,
   "id": "6480dc9b",
   "metadata": {},
   "outputs": [],
   "source": [
    "#step-2: Find no Multi-Colinearity\n",
    "Consider a problem statement where one asked to predict the cost of real-estate property, based on the length of the plot,facilities, and proximity to schools.\n",
    "Here two independent variables length and area plot are directly related. As the length increases, the area also increases. Such correlation affects the model performance.\n",
    "How to identify this?\n"
   ]
  },
  {
   "cell_type": "code",
   "execution_count": 22,
   "id": "3c111fb5",
   "metadata": {},
   "outputs": [
    {
     "data": {
      "text/plain": [
       "<AxesSubplot:>"
      ]
     },
     "execution_count": 22,
     "metadata": {},
     "output_type": "execute_result"
    },
    {
     "data": {
      "image/png": "[encoded data removed]",
      "text/plain": [
       "<Figure size 432x288 with 2 Axes>"
      ]
     },
     "metadata": {
      "needs_background": "light"
     },
     "output_type": "display_data"
    }
   ],
   "source": [
    "import seaborn as sns\n",
    "sns.heatmap(file.corr(), annot=True)"
   ]
  },
  {
   "cell_type": "code",
   "execution_count": 24,
   "id": "20966a07",
   "metadata": {},
   "outputs": [
    {
     "name": "stdout",
     "output_type": "stream",
     "text": [
      "                      Avg. Session Length  Time on App  Time on Website  \\\n",
      "Avg. Session Length              1.000000     0.027826         0.034987   \n",
      "Time on App                      0.027826     1.000000         0.082388   \n",
      "Time on Website                  0.034987     0.082388         1.000000   \n",
      "Length of Membership             0.060247     0.029143         0.047582   \n",
      "Yearly Amount Spent              0.355088     0.499328         0.002641   \n",
      "\n",
      "                      Length of Membership  Yearly Amount Spent  \n",
      "Avg. Session Length               0.060247             0.355088  \n",
      "Time on App                       0.029143             0.499328  \n",
      "Time on Website                   0.047582             0.002641  \n",
      "Length of Membership              1.000000             0.809084  \n",
      "Yearly Amount Spent               0.809084             1.000000  \n"
     ]
    }
   ],
   "source": [
    "corr_matrix = file.corr().abs()\n",
    "print(corr_matrix)"
   ]
  },
  {
   "cell_type": "markdown",
   "id": "c0a6b3f1",
   "metadata": {},
   "source": [
    "# Creating the Correlation matrix and Selecting the Upper trigular matrix\n",
    "\n",
    "Note that Correlation matrix will be mirror image about the diagonal and all the diagonal elements will be 1. \n",
    "So, It does not matter that we select the upper triangular or lower triangular part of the correlation matrix but we should not include the diagonal elements.\n",
    "So we are selecting the upper traingular. "
   ]
  },
  {
   "cell_type": "code",
   "execution_count": 32,
   "id": "a7c12c22",
   "metadata": {},
   "outputs": [
    {
     "name": "stderr",
     "output_type": "stream",
     "text": [
      "C:\\Users\\User\\AppData\\Local\\Temp/ipykernel_15140/3014317124.py:1: DeprecationWarning: `np.bool` is a deprecated alias for the builtin `bool`. To silence this warning, use `bool` by itself. Doing this will not modify any behavior and is safe. If you specifically wanted the numpy scalar type, use `np.bool_` here.\n",
      "Deprecated in NumPy 1.20; for more details and guidance: https://numpy.org/devdocs/release/1.20.0-notes.html#deprecations\n",
      "  upper_tri=corr_matrix.where(np.triu(np.ones(corr_matrix.shape), k=1).astype(np.bool))\n"
     ]
    }
   ],
   "source": [
    "upper_tri=corr_matrix.where(np.triu(np.ones(corr_matrix.shape), k=1).astype(np.bool))"
   ]
  },
  {
   "cell_type": "markdown",
   "id": "a5e9a368",
   "metadata": {},
   "source": [
    "# Dropping the column with high Correlation\n",
    "\n",
    "So we are selecting the columns which are having absolute correlation greater than 0.95 and making a list of those columns named 'to_drop'. "
   ]
  },
  {
   "cell_type": "code",
   "execution_count": 33,
   "id": "93c8b526",
   "metadata": {},
   "outputs": [],
   "source": [
    "to_drop = [column for column in upper_tri.columns if any(upper_tri[column] > 0.95)]"
   ]
  },
  {
   "cell_type": "code",
   "execution_count": 34,
   "id": "2a53fd91",
   "metadata": {},
   "outputs": [
    {
     "name": "stdout",
     "output_type": "stream",
     "text": [
      "[]\n"
     ]
    }
   ],
   "source": [
    "print(to_drop)\n",
    "# Result shows, there is no column to drop as the result returns an empty list."
   ]
  },
  {
   "cell_type": "markdown",
   "id": "092f7fd9",
   "metadata": {},
   "source": [
    "Check if there are any columns whose correlation values > 0.95, if there are any then drop those columns and drop from the dataframe also.\n",
    "df1 = df.drop(df.columns[to_drop], axis=1)"
   ]
  },
  {
   "cell_type": "markdown",
   "id": "88492824",
   "metadata": {},
   "source": [
    "# Step-3 Normality distribution\n",
    "It is important that continuous variables in the dataset need to be Gaussian distributed.\n",
    "#Gaussian distribution\n",
    "Gaussian distribution It is a probability distribution that is symmetric about the mean, \n",
    "showing that data near the mean are more frequent in occurrence than data far from the mean."
   ]
  },
  {
   "cell_type": "code",
   "execution_count": 35,
   "id": "3806b7be",
   "metadata": {},
   "outputs": [],
   "source": [
    "from scipy.stats import norm, skew"
   ]
  },
  {
   "cell_type": "code",
   "execution_count": 39,
   "id": "bb55aab9",
   "metadata": {},
   "outputs": [
    {
     "name": "stderr",
     "output_type": "stream",
     "text": [
      "C:\\Users\\User\\miniconda3\\lib\\site-packages\\seaborn\\distributions.py:2619: FutureWarning: `distplot` is a deprecated function and will be removed in a future version. Please adapt your code to use either `displot` (a figure-level function with similar flexibility) or `histplot` (an axes-level function for histograms).\n",
      "  warnings.warn(msg, FutureWarning)\n"
     ]
    },
    {
     "data": {
      "text/plain": [
       "Text(0.5, 1.0, 'Normality of error terms/residuals')"
      ]
     },
     "execution_count": 39,
     "metadata": {},
     "output_type": "execute_result"
    },
    {
     "data": {
      "image/png": "[encoded data removed]",
      "text/plain": [
       "<Figure size 432x288 with 1 Axes>"
      ]
     },
     "metadata": {
      "needs_background": "light"
     },
     "output_type": "display_data"
    }
   ],
   "source": [
    "sns.distplot(residuals, fit = norm, kde = True, color = 'blue')\n",
    "plt.title(\"Normality of error terms/residuals\")"
   ]
  },
  {
   "cell_type": "markdown",
   "id": "1071521c",
   "metadata": {},
   "source": [
    "The residual terms are pretty much normally distributed for the number of test points we took.\n",
    "Remember the central limit theorem which says that as the sample size increases the distribution tends to be normal. "
   ]
  },
  {
   "cell_type": "markdown",
   "id": "4dff3536",
   "metadata": {},
   "source": [
    "# step-4 Autocorrelation"
   ]
  },
  {
   "cell_type": "code",
   "execution_count": null,
   "id": "2da5ff6d",
   "metadata": {},
   "outputs": [],
   "source": []
  },
  {
   "cell_type": "code",
   "execution_count": null,
   "id": "59d82fbc",
   "metadata": {},
   "outputs": [],
   "source": []
  },
  {
   "cell_type": "code",
   "execution_count": null,
   "id": "ff0929f5",
   "metadata": {},
   "outputs": [],
   "source": []
  },
  {
   "cell_type": "code",
   "execution_count": null,
   "id": "dd6717f6",
   "metadata": {},
   "outputs": [],
   "source": []
  }
 ],
 "metadata": {
  "kernelspec": {
   "display_name": "Python 3 (ipykernel)",
   "language": "python",
   "name": "python3"
  },
  "language_info": {
   "codemirror_mode": {
    "name": "ipython",
    "version": 3
   },
   "file_extension": ".py",
   "mimetype": "text/x-python",
   "name": "python",
   "nbconvert_exporter": "python",
   "pygments_lexer": "ipython3",
   "version": "3.9.5"
  }
 },
 "nbformat": 4,
 "nbformat_minor": 5
}
